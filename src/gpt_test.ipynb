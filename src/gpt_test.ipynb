{
 "cells": [
  {
   "cell_type": "code",
   "execution_count": 15,
   "metadata": {},
   "outputs": [
    {
     "data": {
      "text/html": [
       "<div>\n",
       "<style scoped>\n",
       "    .dataframe tbody tr th:only-of-type {\n",
       "        vertical-align: middle;\n",
       "    }\n",
       "\n",
       "    .dataframe tbody tr th {\n",
       "        vertical-align: top;\n",
       "    }\n",
       "\n",
       "    .dataframe thead th {\n",
       "        text-align: right;\n",
       "    }\n",
       "</style>\n",
       "<table border=\"1\" class=\"dataframe\">\n",
       "  <thead>\n",
       "    <tr style=\"text-align: right;\">\n",
       "      <th></th>\n",
       "      <th>user_id</th>\n",
       "      <th>답안</th>\n",
       "      <th>1. 사다리꼴이 사각형임을 알고 있는가?</th>\n",
       "      <th>2. 평행의 개념을 알고 있는가?</th>\n",
       "    </tr>\n",
       "  </thead>\n",
       "  <tbody>\n",
       "    <tr>\n",
       "      <th>0</th>\n",
       "      <td>1</td>\n",
       "      <td>수직선에서 밑으로 넓게 퍼지는 형식</td>\n",
       "      <td>NaN</td>\n",
       "      <td>NaN</td>\n",
       "    </tr>\n",
       "    <tr>\n",
       "      <th>1</th>\n",
       "      <td>2</td>\n",
       "      <td>윗면과 아랫면이 평행한 것</td>\n",
       "      <td>NaN</td>\n",
       "      <td>NaN</td>\n",
       "    </tr>\n",
       "    <tr>\n",
       "      <th>2</th>\n",
       "      <td>3</td>\n",
       "      <td>변이 네개고 각이 네개인 도형(사각형) 중에서 평행한 변이 한 쌍이라도 있는 도형을...</td>\n",
       "      <td>NaN</td>\n",
       "      <td>NaN</td>\n",
       "    </tr>\n",
       "    <tr>\n",
       "      <th>3</th>\n",
       "      <td>4</td>\n",
       "      <td>한 변이 평행한 사각형</td>\n",
       "      <td>NaN</td>\n",
       "      <td>NaN</td>\n",
       "    </tr>\n",
       "    <tr>\n",
       "      <th>4</th>\n",
       "      <td>5</td>\n",
       "      <td>윗변과 아랫변은 평행관계이고 수직관계이다</td>\n",
       "      <td>NaN</td>\n",
       "      <td>NaN</td>\n",
       "    </tr>\n",
       "  </tbody>\n",
       "</table>\n",
       "</div>"
      ],
      "text/plain": [
       "   user_id                                                 답안   \n",
       "0        1                                수직선에서 밑으로 넓게 퍼지는 형식  \\\n",
       "1        2                                     윗면과 아랫면이 평행한 것   \n",
       "2        3  변이 네개고 각이 네개인 도형(사각형) 중에서 평행한 변이 한 쌍이라도 있는 도형을...   \n",
       "3        4                                       한 변이 평행한 사각형   \n",
       "4        5                             윗변과 아랫변은 평행관계이고 수직관계이다   \n",
       "\n",
       "   1. 사다리꼴이 사각형임을 알고 있는가?  2. 평행의 개념을 알고 있는가?  \n",
       "0                     NaN                 NaN  \n",
       "1                     NaN                 NaN  \n",
       "2                     NaN                 NaN  \n",
       "3                     NaN                 NaN  \n",
       "4                     NaN                 NaN  "
      ]
     },
     "execution_count": 15,
     "metadata": {},
     "output_type": "execute_result"
    }
   ],
   "source": [
    "import pandas as pd\n",
    "import openai\n",
    "from modules.gpt_modules import gpt_call\n",
    "\n",
    "# Load the data\n",
    "df = pd.read_csv('../data/number_1.tsv', sep='\\t')\n",
    "df.head()"
   ]
  },
  {
   "cell_type": "code",
   "execution_count": 22,
   "metadata": {},
   "outputs": [],
   "source": [
    "eval1_prompt_list = \"\\n\".join([\n",
    "    \"평가기준 1. 사다리꼴이 사각형임을 알고 있는가?\",\n",
    "    \"0점: 사각형이라고 명시하지 않거나 변 4개 또는 꼭짓점 4개라고 설명하지 않는다. 혹은 입체도형의 구성요소인 '면'이라는 용어를 쓴 경우\",\n",
    "    \"1점: 사각형 또는 변 4개 또는 꼭짓점 4개라고 설명하였을때\"\n",
    "])\n",
    "\n",
    "eval2_prompt_list = \"\\n\".join([\n",
    "    \"평가기준 2. 평행의 개념을 알고 있는가?\",\n",
    "    \"0점: 평행이라는 용어가 등장하지 않거나 평행을 내포하는 용어를(마주보는 선, 대변, 만나지 않는다 등) 포함하여 설명하지 않는다. 혹은 평행이라는 용어를 썼지만 '평행하지 않는'과 같이 부정어를 포함하여 서술한 경우\",\n",
    "    \"1점: 평행이라는 용어가 등장하거나, 평행을 내포하는 용어를(마주보는 선, 대변, 만나지 않는다 등) 포함하여 설명한다.\",\n",
    "    \"2점: 평행이라는 용어를 사용하거나 평행을 내포하는 용어를(마주보는 선, 대변, 만나지 않는다 등) 포함하여 설명 혹은 평행한 변이 한 쌍, 두 변, 두 개의 변을 지칭할 경우\"\n",
    "])\n"
   ]
  },
  {
   "cell_type": "code",
   "execution_count": 27,
   "metadata": {},
   "outputs": [],
   "source": [
    "from dotenv import dotenv_values\n",
    "\n",
    "config = dotenv_values(\"../.env\")\n",
    "\n",
    "openai.organization = config.get('OPENAI_ORGANIZATION')\n",
    "openai.api_key = config.get('OPENAI_API_KEY')\n",
    "\n",
    "\n",
    "def gpt_call(prompt):\n",
    "    response = openai.ChatCompletion.create(\n",
    "        model=\"gpt-4\",\n",
    "        messages=[\n",
    "                    {\"role\": \"user\", \"content\": prompt},\n",
    "                ]\n",
    "    )\n",
    "    output_text = response[\"choices\"][0][\"message\"][\"content\"]\n",
    "\n",
    "    return output_text"
   ]
  },
  {
   "cell_type": "code",
   "execution_count": 26,
   "metadata": {},
   "outputs": [
    {
     "name": "stdout",
     "output_type": "stream",
     "text": [
      "점수: (0)점\n"
     ]
    }
   ],
   "source": [
    "final_prompt = \"\\n\".join([\n",
    "    \"지금부터 학생 답안을 평가기준에 따라 평가하라.\",\n",
    "    \"예를들어, 점수: (1)점 이라고 답하면 된다.\",\n",
    "    eval1_prompt_list,\n",
    "    \"학생 답안: 수직선에서 밑으로 넓게 퍼지는 형식\"\n",
    "    \"점수: ()점\"\n",
    "])\n",
    "\n",
    "response = gpt_call(final_prompt)\n",
    "\n",
    "print(response)"
   ]
  },
  {
   "cell_type": "code",
   "execution_count": null,
   "metadata": {},
   "outputs": [],
   "source": []
  }
 ],
 "metadata": {
  "kernelspec": {
   "display_name": "Python 3",
   "language": "python",
   "name": "python3"
  },
  "language_info": {
   "codemirror_mode": {
    "name": "ipython",
    "version": 3
   },
   "file_extension": ".py",
   "mimetype": "text/x-python",
   "name": "python",
   "nbconvert_exporter": "python",
   "pygments_lexer": "ipython3",
   "version": "3.9.16"
  },
  "orig_nbformat": 4
 },
 "nbformat": 4,
 "nbformat_minor": 2
}
